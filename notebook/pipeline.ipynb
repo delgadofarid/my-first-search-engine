{
 "cells": [
  {
   "cell_type": "markdown",
   "id": "22d56b2e",
   "metadata": {},
   "source": [
    "# Construyendo un Motor de Búsqueda desde 0"
   ]
  },
  {
   "cell_type": "markdown",
   "id": "772445f8",
   "metadata": {},
   "source": [
    "Pasos:\n",
    "1. Configurar el ambiente para el desarrollo.\n",
    "   - Configurar ambiente virtual Python.\n",
    "   - Configurar Elasticsearch instance.\n",
    "2. Normalizar contenido para búsqueda. Usaremos una versión reducida de este conjunto de datos disponible públicamente: https://www.kaggle.com/dhruvildave/wikibooks-dataset\n",
    "3. Crear indice Elasticsearch con contenido normalizado.\n",
    "4. Construir sentencias de búsqueda para Elasticsearch.\n",
    "5. Medir el desempeño de mi motor con cada sentencia de búsqueda y escoger la mejor.\n",
    "6. Crear UI y ensamblar todos lo componentes.\n",
    "7. BONUS: Integrar modelos de lenguaje para:\n",
    "    - Mejorar reranking\n",
    "    - Extraer y mostrar respuesta al usuario contenida en los parrafos"
   ]
  },
  {
   "cell_type": "markdown",
   "id": "eb7986a5",
   "metadata": {},
   "source": [
    "### 1. Configurar el ambiente para el desarrollo"
   ]
  },
  {
   "cell_type": "code",
   "execution_count": null,
   "id": "77116228",
   "metadata": {},
   "outputs": [],
   "source": [
    "# instalar dependencias requeridas\n",
    "!pip install -r requirements.txt"
   ]
  },
  {
   "cell_type": "code",
   "execution_count": null,
   "id": "6045fc0e",
   "metadata": {},
   "outputs": [],
   "source": [
    "# iniciar elasticsearch instance\n",
    "!docker-compose up"
   ]
  },
  {
   "cell_type": "markdown",
   "id": "e5d7f20c",
   "metadata": {},
   "source": [
    "### 2. Normalizar contenido para búsqueda"
   ]
  },
  {
   "cell_type": "code",
   "execution_count": null,
   "id": "4dbdaaf3",
   "metadata": {},
   "outputs": [],
   "source": [
    "# lectura del dataset archivo zip e imprimir numero total de registros"
   ]
  },
  {
   "cell_type": "markdown",
   "id": "1aeaab1e",
   "metadata": {},
   "source": [
    "#### 2.1 Reconocimiento del formato"
   ]
  },
  {
   "cell_type": "code",
   "execution_count": null,
   "id": "04973a69",
   "metadata": {},
   "outputs": [],
   "source": [
    "# convertir dataset a listado de dicts e imprimir alguno de los elementos"
   ]
  },
  {
   "cell_type": "code",
   "execution_count": null,
   "id": "540750bb",
   "metadata": {},
   "outputs": [],
   "source": [
    "# from IPython.core.display import display, HTML"
   ]
  },
  {
   "cell_type": "markdown",
   "id": "6d68ff93",
   "metadata": {},
   "source": [
    "#### 2.2 Conversión HTML a formato intermedio Markdown"
   ]
  },
  {
   "cell_type": "code",
   "execution_count": null,
   "id": "9e6f1996",
   "metadata": {},
   "outputs": [],
   "source": [
    "# HTML de referencia\n",
    "html = \"<b>Misión TIC 2022</b>\" + \\\n",
    "\"<br /><br /><br />\" + \\\n",
    "\"Rutas\" + \\\n",
    "\"<ul>\" + \\\n",
    "\"<li><em>Ruta</em> <b>1</b></li>\" + \\\n",
    "\"<li><a href='#example'>Ruta 2</a></li>\" + \\\n",
    "\"</ul>\" + \\\n",
    "\"<a href='https://www.misiontic2022.gov.co/portal/Secciones/Inscripciones-2021/'>Requisitos Ruta 2</a>:\" + \\\n",
    "\"<p>Si eres mayor de 15        años, quieres aprender a programar y tienes la disponibilidad de 30 horas semanales para realizar la formación. Deberás registrate en la web, seleccionar la ruta 2 y diligenciar el formulario de inscripción.</p>\" + \\\n",
    "\"Universidades:\" + \\\n",
    "\"<br />\" + \\\n",
    "\"* UniNorte<br />· UTP<br />- Universidad Nacional<br />La universidad nacional ...<br />- UNAB\" + \\\n",
    "\"<br /><br /><br />\" + \\\n",
    "\"<span>[</span><a href='#example' title='Editar sección'>editar</a><span>]</span>Tiempos:\" + \\\n",
    "\"<br />\" + \\\n",
    "\"<table><tr><th>Ruta</th><th>Tiempo</th><th>Edad</th></tr><tr><td>Ruta 1</td><td>11 horas</td><td>12</td></tr><tr><td>Ruta 2</td><td>30 horas</td><td>18</td></tr></table>\" + \\\n",
    "\"<img src='https://misiontic2022.mintic.gov.co/mtv2/assets/assets/images/logo-mision.png' alt='mintic 2022' width='500'>\"\n",
    "# imprimir"
   ]
  },
  {
   "cell_type": "code",
   "execution_count": null,
   "id": "662f1135",
   "metadata": {},
   "outputs": [],
   "source": [
    "# probar conversor inicial: html2text import HTML2Text"
   ]
  },
  {
   "cell_type": "markdown",
   "id": "3fb66e85",
   "metadata": {},
   "source": [
    "#### 2.3 Ajustar conversor para lectura óptima"
   ]
  },
  {
   "cell_type": "code",
   "execution_count": null,
   "id": "28257b86",
   "metadata": {},
   "outputs": [],
   "source": [
    "# ignorar enlaces, ignorar enfasis, ignorar imagenes y no ajustar ancho de texto"
   ]
  },
  {
   "cell_type": "markdown",
   "id": "8cb5273f",
   "metadata": {},
   "source": [
    "#### 2.4 Normalizar listas"
   ]
  },
  {
   "cell_type": "code",
   "execution_count": null,
   "id": "a530c37c",
   "metadata": {},
   "outputs": [],
   "source": [
    "# reescribir los elementos de lista usando un correcto formato de Markdown (eg.  * list item) - re.sub"
   ]
  },
  {
   "cell_type": "markdown",
   "id": "d1f775a0",
   "metadata": {},
   "source": [
    "#### 2.5 Normalizar tablas"
   ]
  },
  {
   "cell_type": "code",
   "execution_count": null,
   "id": "a59f6de2",
   "metadata": {},
   "outputs": [],
   "source": [
    "# 1. \"| \" -> \" | \"\n",
    "# 2. eliminar \"-----|----|---\"\n",
    "# 3. \"    | \" -> \" | \""
   ]
  },
  {
   "cell_type": "markdown",
   "id": "c145d004",
   "metadata": {},
   "source": [
    "#### 2.6 De vuelta a HTML simplificado (MD -> HTML)"
   ]
  },
  {
   "cell_type": "code",
   "execution_count": null,
   "id": "e8f11f4f",
   "metadata": {},
   "outputs": [],
   "source": [
    "# from mistletoe import markdown"
   ]
  },
  {
   "cell_type": "markdown",
   "id": "42f302b3",
   "metadata": {},
   "source": [
    "#### 2.7 Conversión HTML a Text"
   ]
  },
  {
   "cell_type": "code",
   "execution_count": null,
   "id": "89793234",
   "metadata": {},
   "outputs": [],
   "source": [
    "# from bs4 import BeautifulSoup"
   ]
  },
  {
   "cell_type": "markdown",
   "id": "cc0b3a98",
   "metadata": {},
   "source": [
    "#### 2.8 Manejo extra espacios"
   ]
  },
  {
   "cell_type": "code",
   "execution_count": null,
   "id": "62cc8f37",
   "metadata": {},
   "outputs": [],
   "source": [
    "# 1. eliminar espacios a los extremos\n",
    "# 2. reemplazar tabulaciones y espacios dobles por uno dentro del texto\n",
    "# 3. reemplazar salto de linea dobles por uno dentro del texto"
   ]
  },
  {
   "cell_type": "markdown",
   "id": "3aa04065",
   "metadata": {},
   "source": [
    "#### 2.9 Borrar artefactos innecesarios"
   ]
  },
  {
   "cell_type": "code",
   "execution_count": null,
   "id": "8efa387b",
   "metadata": {},
   "outputs": [],
   "source": [
    "# borrar enlaces [editar]"
   ]
  },
  {
   "cell_type": "markdown",
   "id": "45cee1b0",
   "metadata": {},
   "source": [
    "#### 2.10 Divide el texto en párrafos"
   ]
  },
  {
   "cell_type": "code",
   "execution_count": null,
   "id": "abbefd5d",
   "metadata": {},
   "outputs": [],
   "source": []
  },
  {
   "cell_type": "markdown",
   "id": "0671b637",
   "metadata": {},
   "source": [
    "#### 2.11 Filtrar párrafos - definir datos en alcance"
   ]
  },
  {
   "cell_type": "code",
   "execution_count": null,
   "id": "a8473814",
   "metadata": {},
   "outputs": [],
   "source": [
    "# Alcance definido:\n",
    "# 1. solo incluye los párrafos con más de 50 letras"
   ]
  },
  {
   "cell_type": "markdown",
   "id": "a2354fa9",
   "metadata": {},
   "source": [
    "#### 2.12 Crear función global de normalización de contenido (unir piezas)"
   ]
  },
  {
   "cell_type": "code",
   "execution_count": null,
   "id": "6a910e3a",
   "metadata": {},
   "outputs": [],
   "source": [
    "def normalise_content(input_html):\n",
    "    # implement\n",
    "    return None"
   ]
  },
  {
   "cell_type": "markdown",
   "id": "ed502fdf",
   "metadata": {},
   "source": [
    "#### 2.13 Crear función de normalización de títulos"
   ]
  },
  {
   "cell_type": "code",
   "execution_count": null,
   "id": "29cf28d6",
   "metadata": {},
   "outputs": [],
   "source": [
    "# Wikilibros: Wikichicos/La Tierra/Los continentes/Europa/Clima -> La Tierra, Los continentes, Europa, Clima\n",
    "import re\n",
    "def normalise_title(input_title):\n",
    "    # implement\n",
    "    return None"
   ]
  },
  {
   "cell_type": "markdown",
   "id": "2b68f81c",
   "metadata": {},
   "source": [
    "#### 2.14 Crear elementos que indexaremos a Elasticsearch - formato definido:\n",
    "{\n",
    "    \"bookId\": 0, \n",
    "    \"bookTitle\": \"\", \n",
    "    \"bookURL\": \"\", \n",
    "    \"paragraphId\": 0,\n",
    "    \"paragraphText\": \"\"\n",
    "}"
   ]
  },
  {
   "cell_type": "code",
   "execution_count": null,
   "id": "3984b587",
   "metadata": {},
   "outputs": [],
   "source": [
    "# from tqdm import tqdm"
   ]
  },
  {
   "cell_type": "code",
   "execution_count": null,
   "id": "3856545a",
   "metadata": {},
   "outputs": [],
   "source": [
    "# imprimir total numero de parrafos a almacenar en ES"
   ]
  },
  {
   "cell_type": "code",
   "execution_count": null,
   "id": "80ff1618",
   "metadata": {},
   "outputs": [],
   "source": [
    "# persistimos contenido normalizado en forma de parrafos al disco duro en formato JSON en dataset/processed/ (crear directorio si no existe)"
   ]
  },
  {
   "cell_type": "markdown",
   "id": "a12b2cfd",
   "metadata": {},
   "source": [
    "### 3. Crear indice en Elasticsearch con contenido normalizado"
   ]
  },
  {
   "cell_type": "markdown",
   "id": "61ace3bb",
   "metadata": {},
   "source": [
    "##### 3.1. Instanciamos cliente para poder interactuar con Elasticsearch"
   ]
  },
  {
   "cell_type": "code",
   "execution_count": null,
   "id": "f4a4cf97",
   "metadata": {},
   "outputs": [],
   "source": []
  },
  {
   "cell_type": "markdown",
   "id": "856b0f88",
   "metadata": {},
   "source": [
    "##### 3.2. Función para crear índice (indexar contenido) en Elasticsearch"
   ]
  },
  {
   "cell_type": "code",
   "execution_count": null,
   "id": "1b917b48",
   "metadata": {},
   "outputs": [],
   "source": [
    "import os\n",
    "from elasticsearch import helpers\n",
    "\n",
    "def create_index(index_action_list, index_name):\n",
    "    # si el index existe, borrarlo (es.indices.exists y es.indices.delete)\n",
    "    # crear request body con mis mappings \n",
    "    # crear index (es.indices.create)\n",
    "    # crear elementos en paralelo usando helper.parallel_bulk\n",
    "    pass"
   ]
  },
  {
   "cell_type": "markdown",
   "id": "970a84ac",
   "metadata": {},
   "source": [
    "##### 3.4. Creación del índice"
   ]
  },
  {
   "cell_type": "code",
   "execution_count": null,
   "id": "5bccbdc5",
   "metadata": {},
   "outputs": [],
   "source": [
    "# lectura de archivo con parrafos procesados\n",
    "import json\n",
    "with open(\"dataset/processed/paragraphs.json\") as fp:\n",
    "    paragraphs = json.load(fp)"
   ]
  },
  {
   "cell_type": "code",
   "execution_count": null,
   "id": "6186ef38",
   "metadata": {},
   "outputs": [],
   "source": [
    "# creación de indice con contenido normalizado generado en el paso 2\n",
    "index_name = \"wikibooks-search-index\""
   ]
  },
  {
   "cell_type": "markdown",
   "id": "ffa58091",
   "metadata": {},
   "source": [
    "### 4. Construir sentencias de búsqueda (query) para Elasticsearch"
   ]
  },
  {
   "cell_type": "markdown",
   "id": "8de68454",
   "metadata": {},
   "source": [
    "#### 4.1. Funciones para ejecutar búsqueda de contenido en elasticsearch \n",
    "Crear formato a partir de la respuesta de ES y convertir a DF:\n",
    "{\n",
    "    \"bookId\": 0, \n",
    "    \"bookTitle\": \"\", \n",
    "    \"bookURL\": \"\", \n",
    "    \"paragraphId\": 0,\n",
    "    \"paragraphText\": \"\",\n",
    "    \"esScore\": 0\n",
    "}"
   ]
  },
  {
   "cell_type": "code",
   "execution_count": null,
   "id": "e0087510",
   "metadata": {},
   "outputs": [],
   "source": [
    "# from elasticsearch import helpers\n",
    "# from itertools import islice\n",
    "def find_by_query(query, index_name=\"wikibooks-search-index\", size=100):\n",
    "    # consulta a Elasticsearch helper.scan conservando el orden"
   ]
  },
  {
   "cell_type": "code",
   "execution_count": null,
   "id": "0af56676",
   "metadata": {},
   "outputs": [],
   "source": [
    "# opción para NO truncar texto cuando es muy largo\n",
    "# pd.set_option(\"display.max_colwidth\", None)"
   ]
  },
  {
   "cell_type": "markdown",
   "id": "35a94e4f",
   "metadata": {},
   "source": [
    "#### 4.2 Demo diferentes tipos de queries soportados por Elasticsearch"
   ]
  },
  {
   "cell_type": "markdown",
   "id": "1f2377d1",
   "metadata": {},
   "source": [
    "###### 4.2.1 Query usando un simple campo de búsqueda - paragraphText"
   ]
  },
  {
   "cell_type": "code",
   "execution_count": null,
   "id": "5e715b93",
   "metadata": {},
   "outputs": [],
   "source": [
    "def es_query_1(user_query):\n",
    "    es_query = {\n",
    "        \"query\": {\n",
    "            \"bool\": {\n",
    "                \"must\": {\"match\": {\"paragraphText\": user_query}}\n",
    "            }\n",
    "        }\n",
    "    }\n",
    "    return es_query"
   ]
  },
  {
   "cell_type": "markdown",
   "id": "d3055887",
   "metadata": {},
   "source": [
    "###### 4.2.2 Query usando múltiples campos de búsqueda - paragraphText y bookTitle"
   ]
  },
  {
   "cell_type": "code",
   "execution_count": null,
   "id": "accf7168",
   "metadata": {},
   "outputs": [],
   "source": [
    "def es_query_2(user_query):\n",
    "    es_query = {\n",
    "        \"query\": {\n",
    "            \"multi_match\": {\n",
    "                \"query\": user_query,\n",
    "                \"fields\": [\"paragraphText\", \"bookTitle\"],\n",
    "                \"tie_breaker\": 1.0\n",
    "            }\n",
    "        }\n",
    "    }\n",
    "    return es_query"
   ]
  },
  {
   "cell_type": "markdown",
   "id": "6cb36f1a",
   "metadata": {},
   "source": [
    "###### 4.2.3 Query impulsando campos de búsqueda paragraphText y bookTitle"
   ]
  },
  {
   "cell_type": "code",
   "execution_count": null,
   "id": "aa3b6fd3",
   "metadata": {},
   "outputs": [],
   "source": [
    "def es_query_3(user_query):\n",
    "    es_query = {\n",
    "        \"query\": {\n",
    "            \"multi_match\": {\n",
    "                \"query\": user_query,\n",
    "                \"fields\": [\"paragraphText\", \"bookTitle^2.0\"],\n",
    "                \"tie_breaker\": 1.0\n",
    "            }\n",
    "        }\n",
    "    }\n",
    "    return es_query"
   ]
  },
  {
   "cell_type": "markdown",
   "id": "c9f780c2",
   "metadata": {},
   "source": [
    "###### 4.2.4 Query usando múltiples campos de búsqueda con soporte a coincidencia exacta de frases"
   ]
  },
  {
   "cell_type": "code",
   "execution_count": null,
   "id": "ac54107f",
   "metadata": {},
   "outputs": [],
   "source": [
    "import re\n",
    "def es_query_4(user_query):\n",
    "    \n",
    "    match_queries = [\n",
    "        {\"match\": {\"paragraphText\": user_query}},\n",
    "        {\"match\": {\"bookTitle\": user_query}}\n",
    "    ]\n",
    "    \n",
    "    # identificar frases en mi user_query\n",
    "    phrases = re.findall(r'\"([^\"]+)\"', user_query)\n",
    "    # agregar frases a mi ES query\n",
    "    for phrase in phrases:\n",
    "        match_queries.append({\"match\": {\"paragraphText\": phrase}})\n",
    "        match_queries.append({\"match\": {\"bookTitle\": phrase}})\n",
    "    \n",
    "    es_query = {\n",
    "        \"query\": {\n",
    "            \"bool\": {\n",
    "                \"should\": match_queries\n",
    "            }\n",
    "        }\n",
    "    }\n",
    "    return es_query"
   ]
  },
  {
   "cell_type": "markdown",
   "id": "09d64785",
   "metadata": {},
   "source": [
    "### 5. Midiendo el desempeño de mi motor de búsqueda"
   ]
  },
  {
   "cell_type": "markdown",
   "id": "bb4aa70b",
   "metadata": {},
   "source": [
    "##### 5.1 datos preparados para medición de desempeño"
   ]
  },
  {
   "cell_type": "code",
   "execution_count": null,
   "id": "784afd56",
   "metadata": {},
   "outputs": [],
   "source": [
    "query_relevant_answer_pairs = [\n",
    "    {\n",
    "        \"text\": \"extensión total de la Antártida\",\n",
    "        \"relevant_results\": {\n",
    "            \"2803-1\": \"Su extensión total es de aproximadamente 14,2 millones de km2 en verano. Durante el invierno, la Antártida dobla su tamaño a causa de la gran cantidad de hielo marino que se forma en su periferia. El verdadero límite de la Antártida no es el litoral del continente en sí mismo, sino la Convergencia Antártica , que es una zona claramente definida en el extremo sur de los océanos Atlántico, Índico y Pacífico, entre los 48° y los 60° latitud S. En este punto, las corrientes frías que fluyen hacia el Norte desde la Antártida se mezclan con corrientes más cálidas en dirección Sur. La Convergencia Antártica marca una clara diferencia física en los océanos. Por estas razones el agua que rodea al continente antártico se considera un océano en sí mismo, a menudo llamado océano Glacial Antártico o Meridional.\"\n",
    "        }\n",
    "    },\n",
    "    {\n",
    "        \"text\": \"dorsales submarinas\",\n",
    "        \"relevant_results\": {\n",
    "            \"3288-15\": \"Las dorsales son cordilleras submarinas formadas al ponerse en contacto el magma del interior de la Tierra con las aguas de los océanos. Por el centro del Atlántico corre una dorsal con forma de S, de unos 15 000 km de longitud, casi paralela a los continentes que da lugar a las islas Azores. El océano Índico también está recorrido por una dorsal de Norte a Sur y en el Pacífico también existen dorsales en dirección Noreste-Sureste; las islas Hawai están situadas sobre una de estas dorsales .\"\n",
    "        }\n",
    "    },\n",
    "    {\n",
    "        \"text\": \"principales gases en la atmósfera terrestre\",\n",
    "        \"relevant_results\": {\n",
    "            \"527-12\": \"La atmósfera terrestre es la parte gaseosa de la Tierra, siendo por esto la capa más externa. Está constituida por varios gases que varían en cantidad. Esta mezcla de gases que forma la atmósfera recibe genéricamente el nombre de aire. Los principales elementos que la componen son el oxígeno (21%) y el nitrógeno (78%).\"\n",
    "        }\n",
    "    },\n",
    "    {\n",
    "        \"text\": \"anatomía de los mayas\",\n",
    "        \"relevant_results\": {\n",
    "            \"318-10\": \"Eran de baja estatura, hombros anchos, pecho robusto, piernas cortas y musculosas, el rostro alargado y los pómulos salientes. Su estatura era, en término medio, de 1,65 m los varones y 1,42 m las mujeres. El cabello negro y lacio y la piel de color cobrizo confirma su procedencia del norte de Asia.\"\n",
    "        }\n",
    "    },\n",
    "    {\n",
    "        \"text\": \"potencia máxima rueda hidráulica\",\n",
    "        \"relevant_results\": {\n",
    "            \"1965-3\": \"Los antiguos aprovechaban ya la energía del agua; utilizaban ruedas hidráulicas para moler trigo. Durante la Edad Media , las enormes ruedas hidráulicas de madera desarrollaban una potencia máxima de cincuenta caballos.\"\n",
    "        }\n",
    "    },\n",
    "    {\n",
    "        \"text\": \"¿Cuándo se firmó el tratado antártico?\",\n",
    "        \"relevant_results\": {\n",
    "            \"2803-5\": \"Siete países ( Argentina, Australia, Chile, Francia, Gran Bretaña, Nueva Zelanda y Noruega ) reivindican la soberanía de ciertos territorios de la Antártida, pero desde el Tratado Antártico de 1961 estas demandas han sido abandonadas en favor de la cooperación internacional en las investigaciones científicas.\"\n",
    "        }\n",
    "    },\n",
    "    {\n",
    "        \"text\": \"¿Cuánta sal hay en promedio en los océanos?\",\n",
    "        \"relevant_results\": {\n",
    "            \"3288-4\": \"El agua de los océanos contiene una media de 36 gramos por litro de sales. Esto se expresa diciendo que la salinidad media de los océanos es del 36 por 1 000. Entre las sales disueltas, el cloruro de sodio (sal común) es la más abundante. En las costas de las lugares donde hace mucho calor y la evaporación es grande el hombre extrae la sal de las salinas, por ejemplo en el Mediterráneo. también tiene disueltas pequeñas cantidades de yodo, fósforo y cobre.\"\n",
    "        }\n",
    "    },\n",
    "    {\n",
    "        \"text\": \"¿Cuántos años tiene la tierra?\",\n",
    "        \"relevant_results\": {\n",
    "            \"2375-0\": \"Hace alrededor de 4550 millones de años atrás se formaron la Tierra y los otros planetas del Sistema Solar a partir de la nebulosa solar; una masa en forma de disco compuesta del polvo y gas que aún quedaba de la formación del Sol. Este proceso de formación de la Tierra tuvo lugar en un plazo de 10-20 millones de años.\"\n",
    "        }\n",
    "    },\n",
    "    {\n",
    "        \"text\": \"¿Dónde vivía la abuelita de Caperucita?\",\n",
    "        \"relevant_results\": {\n",
    "            \"3152-2\": \"Caperucita tenía una abuela que vivía en una casita al otro lado del bosque, por lo que para ir a verla tenía que cruzar todo el bosque. En el bosque,vivían animales que no eran peligrosos: como los ciervos, los conejos y muchas especies de pájaros, pero también vivía en ese bosque un animal que sí podía ser peligroso, sobre todo para los niños: era un lobo que cuando tenía mucha hambre atacaba a las personas.\"\n",
    "        }\n",
    "    },\n",
    "    {\n",
    "        \"text\": \"¿De qué estaba hecha la casa de Hansel y Gretel?\",\n",
    "        \"relevant_results\": {\n",
    "            \"2997-2\": \"Llegaron a una casita hecha de pan de jengibre, pastel y azúcar moreno,\",\n",
    "            \"2997-4\": \"Después de dos días perdidos en el bosque, cuando ya no sabían más que hacer, los niños se detienen a escuchar el canto de un pájaro blanco al cual luego siguen hasta llegar a una casita hecha de pan de jengibre, pastel y azúcar morena. Hansel y Gretel empezaron a comer, pero lo que no sabían era que esta casita era la trampa de una vieja bruja para encerrarlos y luego comérselos.\"\n",
    "        }\n",
    "    }\n",
    "]"
   ]
  },
  {
   "cell_type": "markdown",
   "id": "93cc1107",
   "metadata": {},
   "source": [
    "##### 5.2 Funciones para medición de desempeño"
   ]
  },
  {
   "cell_type": "code",
   "execution_count": null,
   "id": "6ca9e481",
   "metadata": {},
   "outputs": [],
   "source": [
    "def recall_at_k(relevant_results, candidates, k):\n",
    "    candidates_in_k = candidates[:min(k, len(candidates))]\n",
    "    tp = len(set(relevant_results).intersection(set(candidates_in_k)))\n",
    "    fn = len(set(relevant_results) - set(candidates_in_k))\n",
    "    return tp / min(k, (tp + fn)) # same as tp / min(k, len(relevant_results))\n",
    "\n",
    "def precision_at_k(relevant_results, candidates, k):\n",
    "    candidates_in_k = candidates[:min(k, len(candidates))]\n",
    "    tp = len(set(relevant_results).intersection(set(candidates_in_k)))\n",
    "    fp = len(set(candidates_in_k) - set(relevant_results))\n",
    "    return tp / min(k, (tp + fp)) # same as tp / min(k, len(candidates_in_k))\n",
    "\n",
    "def average_precision_at_k(relevant_results, candidates, k):\n",
    "    precision_acum = 0\n",
    "    for i in range(k):\n",
    "        if candidates[i] in relevant_results:\n",
    "            rank = i + 1\n",
    "            precision_acum += precision_at_k(relevant_results, candidates, rank)\n",
    "    return precision_acum / min(k, len(relevant_results))\n",
    "\n",
    "def compute_engine_performance(queries_with_relevant_answers, k_list, query_builder_functions):\n",
    "    \"\"\"\n",
    "    Iterar sobre:\n",
    "    - todos los tipos de query de Elasticsearch\n",
    "    - k's = numbero de resultados tope que vamos a cubrir (top 10, 20, etc)\n",
    "    - todos mis resultados relevantes previamente anotados\n",
    "    \n",
    "    Crear un DataFrame con la siguiente información:\n",
    "    - tipo de query\n",
    "    - K\n",
    "    - recall\n",
    "    - average_precision\n",
    "    \"\"\"\n",
    "    return None"
   ]
  },
  {
   "cell_type": "markdown",
   "id": "e43c5e5b",
   "metadata": {},
   "source": [
    "##### 5.3 Medición de desempeño de diferentes Elasticsearch queries"
   ]
  },
  {
   "cell_type": "code",
   "execution_count": null,
   "id": "94155b5e",
   "metadata": {},
   "outputs": [],
   "source": [
    "performance_summary_es = compute_engine_performance(query_relevant_answer_pairs, [10, 20], [es_query_1, es_query_2, es_query_3, es_query_4])"
   ]
  },
  {
   "cell_type": "markdown",
   "id": "d0083988",
   "metadata": {},
   "source": [
    "### 6 Creamos nuestra función de búsqueda final\n",
    "Formato de respuesta esperado:\n",
    "{\n",
    "    \"bookId\": 0, \n",
    "    \"bookTitle\": \"\", \n",
    "    \"bookURL\": \"\", \n",
    "    \"paragraphId\": 0,\n",
    "    \"paragraphText\": \"\",\n",
    "    \"esScore\": 0,\n",
    "    \"questionText\": \"\"\n",
    "}"
   ]
  },
  {
   "cell_type": "code",
   "execution_count": null,
   "id": "f532e012",
   "metadata": {},
   "outputs": [],
   "source": [
    "def format_es_response(user_question, es_candidates):\n",
    "    results = list()\n",
    "    # implementar\n",
    "    return results\n",
    "\n",
    "def search_candidates(user_question, index_name=\"wikibooks-search-index\", size=20, es=Elasticsearch()):\n",
    "    # implementar despues de decidir qué tipo de query tomar\n",
    "    return format_es_response(user_question, results)\n",
    "    "
   ]
  },
  {
   "cell_type": "markdown",
   "id": "2df1cfe4",
   "metadata": {},
   "source": [
    "### 7 BONUS: Integrar modelos de reordenamiento"
   ]
  },
  {
   "cell_type": "markdown",
   "id": "434411fc",
   "metadata": {},
   "source": [
    "##### 7.1 Funciones para llamado de modelos de reordenamiento (reranking)"
   ]
  },
  {
   "cell_type": "code",
   "execution_count": null,
   "id": "1df0597c",
   "metadata": {},
   "outputs": [],
   "source": []
  },
  {
   "cell_type": "markdown",
   "id": "9f5650db",
   "metadata": {},
   "source": [
    "##### 7.2 Funciones para medición de desempeño con reordenamiento"
   ]
  },
  {
   "cell_type": "code",
   "execution_count": null,
   "id": "d83d0973",
   "metadata": {},
   "outputs": [],
   "source": []
  },
  {
   "cell_type": "markdown",
   "id": "cb53cc6f",
   "metadata": {},
   "source": [
    "##### 7.3 Medición de desempeño de la función de reordenamiento (reranking)"
   ]
  },
  {
   "cell_type": "code",
   "execution_count": null,
   "id": "d061d47a",
   "metadata": {},
   "outputs": [],
   "source": []
  }
 ],
 "metadata": {
  "kernelspec": {
   "display_name": "Python 3",
   "language": "python",
   "name": "python3"
  },
  "language_info": {
   "codemirror_mode": {
    "name": "ipython",
    "version": 3
   },
   "file_extension": ".py",
   "mimetype": "text/x-python",
   "name": "python",
   "nbconvert_exporter": "python",
   "pygments_lexer": "ipython3",
   "version": "3.8.2"
  }
 },
 "nbformat": 4,
 "nbformat_minor": 5
}
